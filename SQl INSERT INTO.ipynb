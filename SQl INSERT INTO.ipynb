{
 "cells": [
  {
   "cell_type": "code",
   "execution_count": 6,
   "metadata": {},
   "outputs": [],
   "source": [
    "import pyodbc #ODBC connection to SQL DB\n",
    "#SQL DB connection details\n",
    "server = 'abc.database.windows.net'\n",
    "database = 'abc'\n",
    "username = 'abc'\n",
    "password = 'abc123'\n",
    "driver='{SQL Server}'\n",
    "\n",
    "#Connect to SQL DB\n",
    "conx_string = 'DRIVER='+driver+';SERVER='+server+';PORT=1443;DATABASE='+database+';UID='+username+';PWD='+ password\n",
    "conx = pyodbc.connect(conx_string);\n",
    "cursor = conx.cursor();        \n",
    "        "
   ]
  },
  {
   "cell_type": "code",
   "execution_count": 13,
   "metadata": {},
   "outputs": [
    {
     "name": "stdout",
     "output_type": "stream",
     "text": [
      "   Personid LastName FirstName    Address      City\n",
      "0         1    Hales      Alex         UK    London\n",
      "1         2     John       Bob  Australia    Sydney\n",
      "2         3   Cruise       Tom        USA  New York\n"
     ]
    }
   ],
   "source": [
    "import pandas as pd\n",
    "data = pd.read_csv ('~/Desktop/test.csv')\n",
    "newdata = data\n",
    "print(newdata) \n",
    "listvalues = newdata.values.tolist()"
   ]
  },
  {
   "cell_type": "code",
   "execution_count": 15,
   "metadata": {},
   "outputs": [],
   "source": [
    "for result in listvalues:\n",
    "    #print(result)\n",
    "    cursor.execute(\"INSERT INTO dbo.Persons (PersonID,LastName,FirstName, Address, City) VALUES (?,?,?,?,?)\", result[0], result[1], result[2], result[3], result[4])\n",
    "    conx.commit()"
   ]
  },
  {
   "cell_type": "code",
   "execution_count": 16,
   "metadata": {},
   "outputs": [
    {
     "name": "stdout",
     "output_type": "stream",
     "text": [
      "[(1, 'Hales', 'Alex', 'UK', 'London'), (2, 'John', 'Bob', 'Australia', 'Sydney'), (3, 'Cruise', 'Tom', 'USA', 'New York')]\n"
     ]
    }
   ],
   "source": [
    "#fetching data from  Table \n",
    "query = ('SELECT * FROM abc.dbo.Persons')\n",
    "cursor.execute(query)\n",
    "data = cursor.fetchall()\n",
    "print (data)"
   ]
  },
  {
   "cell_type": "code",
   "execution_count": null,
   "metadata": {},
   "outputs": [],
   "source": []
  }
 ],
 "metadata": {
  "kernelspec": {
   "display_name": "Python 3",
   "language": "python",
   "name": "python3"
  },
  "language_info": {
   "codemirror_mode": {
    "name": "ipython",
    "version": 3
   },
   "file_extension": ".py",
   "mimetype": "text/x-python",
   "name": "python",
   "nbconvert_exporter": "python",
   "pygments_lexer": "ipython3",
   "version": "3.8.5"
  }
 },
 "nbformat": 4,
 "nbformat_minor": 4
}
